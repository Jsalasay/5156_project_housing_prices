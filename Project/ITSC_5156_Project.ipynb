{
 "cells": [
  {
   "attachments": {},
   "cell_type": "markdown",
   "metadata": {},
   "source": [
    "$\\newcommand{\\xv}{\\mathbf{x}}\n",
    " \\newcommand{\\wv}{\\mathbf{w}}\n",
    " \\newcommand{\\yv}{\\mathbf{y}}\n",
    " \\newcommand{\\zv}{\\mathbf{z}}\n",
    " \\newcommand{\\uv}{\\mathbf{u}}\n",
    " \\newcommand{\\vv}{\\mathbf{v}}\n",
    " \\newcommand{\\Chi}{\\mathcal{X}}\n",
    " \\newcommand{\\R}{\\rm I\\!R}\n",
    " \\newcommand{\\sign}{\\text{sign}}\n",
    " \\newcommand{\\Tm}{\\mathbf{T}}\n",
    " \\newcommand{\\Xm}{\\mathbf{X}}\n",
    " \\newcommand{\\Zm}{\\mathbf{Z}}\n",
    " \\newcommand{\\I}{\\mathbf{I}}\n",
    " \\newcommand{\\Um}{\\mathbf{U}}\n",
    " \\newcommand{\\Vm}{\\mathbf{V}} \n",
    " \\newcommand{\\muv}{\\boldsymbol\\mu}\n",
    " \\newcommand{\\Sigmav}{\\boldsymbol\\Sigma}\n",
    " \\newcommand{\\Lambdav}{\\boldsymbol\\Lambda}\n",
    "$\n",
    "\n",
    "# House Price Predictor\n",
    "\n",
    "\n",
    "### ITCS 5156 Project\n",
    "\n",
    "<br/>\n",
    "\n",
    "NAME: Jose Salas-Ayala\n",
    "\n",
    "</b> </font>"
   ]
  },
  {
   "attachments": {},
   "cell_type": "markdown",
   "metadata": {},
   "source": [
    "Step 1: Data Cleaning\n",
    "The data that will be used is the same as the following reference research paper: T. D. Phan, \"Housing Price Prediction Using Machine Learning Algorithms: The Case of Melbourne City, Australia,\" 2018 International Conference on Machine Learning and Data Engineering (iCMLDE), Sydney, NSW, Australia, 2018, pp. 35-42, doi: 10.1109/iCMLDE.2018.00017.\n"
   ]
  },
  {
   "cell_type": "code",
   "execution_count": 1,
   "metadata": {},
   "outputs": [],
   "source": [
    "#import the neccassry libraries \n",
    "import numpy as np\n",
    "import seaborn as sns\n",
    "import pandas as pd\n",
    "import matplotlib \n",
    "import matplotlib.pyplot as plt\n",
    "import sklearn\n",
    "from sklearn.metrics import r2_score\n",
    "\n"
   ]
  },
  {
   "attachments": {},
   "cell_type": "markdown",
   "metadata": {},
   "source": [
    "The model selected will be a simple linear regression. This is because this model tends to work best as a basis to compare the accuracy of other models. It may not be able to capture the true curve for the best predictions but it will consistently give good predictions."
   ]
  },
  {
   "cell_type": "code",
   "execution_count": 2,
   "metadata": {},
   "outputs": [
    {
     "data": {
      "text/html": [
       "<div>\n",
       "<style scoped>\n",
       "    .dataframe tbody tr th:only-of-type {\n",
       "        vertical-align: middle;\n",
       "    }\n",
       "\n",
       "    .dataframe tbody tr th {\n",
       "        vertical-align: top;\n",
       "    }\n",
       "\n",
       "    .dataframe thead th {\n",
       "        text-align: right;\n",
       "    }\n",
       "</style>\n",
       "<table border=\"1\" class=\"dataframe\">\n",
       "  <thead>\n",
       "    <tr style=\"text-align: right;\">\n",
       "      <th></th>\n",
       "      <th>Suburb</th>\n",
       "      <th>Address</th>\n",
       "      <th>Rooms</th>\n",
       "      <th>Type</th>\n",
       "      <th>Price</th>\n",
       "      <th>Method</th>\n",
       "      <th>SellerG</th>\n",
       "      <th>Date</th>\n",
       "      <th>Distance</th>\n",
       "      <th>Postcode</th>\n",
       "      <th>...</th>\n",
       "      <th>Bathroom</th>\n",
       "      <th>Car</th>\n",
       "      <th>Landsize</th>\n",
       "      <th>BuildingArea</th>\n",
       "      <th>YearBuilt</th>\n",
       "      <th>CouncilArea</th>\n",
       "      <th>Lattitude</th>\n",
       "      <th>Longtitude</th>\n",
       "      <th>Regionname</th>\n",
       "      <th>Propertycount</th>\n",
       "    </tr>\n",
       "  </thead>\n",
       "  <tbody>\n",
       "    <tr>\n",
       "      <th>0</th>\n",
       "      <td>Abbotsford</td>\n",
       "      <td>68 Studley St</td>\n",
       "      <td>2</td>\n",
       "      <td>h</td>\n",
       "      <td>NaN</td>\n",
       "      <td>SS</td>\n",
       "      <td>Jellis</td>\n",
       "      <td>3/09/2016</td>\n",
       "      <td>2.5</td>\n",
       "      <td>3067.0</td>\n",
       "      <td>...</td>\n",
       "      <td>1.0</td>\n",
       "      <td>1.0</td>\n",
       "      <td>126.0</td>\n",
       "      <td>NaN</td>\n",
       "      <td>NaN</td>\n",
       "      <td>Yarra City Council</td>\n",
       "      <td>-37.8014</td>\n",
       "      <td>144.9958</td>\n",
       "      <td>Northern Metropolitan</td>\n",
       "      <td>4019.0</td>\n",
       "    </tr>\n",
       "    <tr>\n",
       "      <th>1</th>\n",
       "      <td>Abbotsford</td>\n",
       "      <td>85 Turner St</td>\n",
       "      <td>2</td>\n",
       "      <td>h</td>\n",
       "      <td>1480000.0</td>\n",
       "      <td>S</td>\n",
       "      <td>Biggin</td>\n",
       "      <td>3/12/2016</td>\n",
       "      <td>2.5</td>\n",
       "      <td>3067.0</td>\n",
       "      <td>...</td>\n",
       "      <td>1.0</td>\n",
       "      <td>1.0</td>\n",
       "      <td>202.0</td>\n",
       "      <td>NaN</td>\n",
       "      <td>NaN</td>\n",
       "      <td>Yarra City Council</td>\n",
       "      <td>-37.7996</td>\n",
       "      <td>144.9984</td>\n",
       "      <td>Northern Metropolitan</td>\n",
       "      <td>4019.0</td>\n",
       "    </tr>\n",
       "    <tr>\n",
       "      <th>2</th>\n",
       "      <td>Abbotsford</td>\n",
       "      <td>25 Bloomburg St</td>\n",
       "      <td>2</td>\n",
       "      <td>h</td>\n",
       "      <td>1035000.0</td>\n",
       "      <td>S</td>\n",
       "      <td>Biggin</td>\n",
       "      <td>4/02/2016</td>\n",
       "      <td>2.5</td>\n",
       "      <td>3067.0</td>\n",
       "      <td>...</td>\n",
       "      <td>1.0</td>\n",
       "      <td>0.0</td>\n",
       "      <td>156.0</td>\n",
       "      <td>79.0</td>\n",
       "      <td>1900.0</td>\n",
       "      <td>Yarra City Council</td>\n",
       "      <td>-37.8079</td>\n",
       "      <td>144.9934</td>\n",
       "      <td>Northern Metropolitan</td>\n",
       "      <td>4019.0</td>\n",
       "    </tr>\n",
       "    <tr>\n",
       "      <th>3</th>\n",
       "      <td>Abbotsford</td>\n",
       "      <td>18/659 Victoria St</td>\n",
       "      <td>3</td>\n",
       "      <td>u</td>\n",
       "      <td>NaN</td>\n",
       "      <td>VB</td>\n",
       "      <td>Rounds</td>\n",
       "      <td>4/02/2016</td>\n",
       "      <td>2.5</td>\n",
       "      <td>3067.0</td>\n",
       "      <td>...</td>\n",
       "      <td>2.0</td>\n",
       "      <td>1.0</td>\n",
       "      <td>0.0</td>\n",
       "      <td>NaN</td>\n",
       "      <td>NaN</td>\n",
       "      <td>Yarra City Council</td>\n",
       "      <td>-37.8114</td>\n",
       "      <td>145.0116</td>\n",
       "      <td>Northern Metropolitan</td>\n",
       "      <td>4019.0</td>\n",
       "    </tr>\n",
       "    <tr>\n",
       "      <th>4</th>\n",
       "      <td>Abbotsford</td>\n",
       "      <td>5 Charles St</td>\n",
       "      <td>3</td>\n",
       "      <td>h</td>\n",
       "      <td>1465000.0</td>\n",
       "      <td>SP</td>\n",
       "      <td>Biggin</td>\n",
       "      <td>4/03/2017</td>\n",
       "      <td>2.5</td>\n",
       "      <td>3067.0</td>\n",
       "      <td>...</td>\n",
       "      <td>2.0</td>\n",
       "      <td>0.0</td>\n",
       "      <td>134.0</td>\n",
       "      <td>150.0</td>\n",
       "      <td>1900.0</td>\n",
       "      <td>Yarra City Council</td>\n",
       "      <td>-37.8093</td>\n",
       "      <td>144.9944</td>\n",
       "      <td>Northern Metropolitan</td>\n",
       "      <td>4019.0</td>\n",
       "    </tr>\n",
       "  </tbody>\n",
       "</table>\n",
       "<p>5 rows × 21 columns</p>\n",
       "</div>"
      ],
      "text/plain": [
       "       Suburb             Address  Rooms Type      Price Method SellerG  \\\n",
       "0  Abbotsford       68 Studley St      2    h        NaN     SS  Jellis   \n",
       "1  Abbotsford        85 Turner St      2    h  1480000.0      S  Biggin   \n",
       "2  Abbotsford     25 Bloomburg St      2    h  1035000.0      S  Biggin   \n",
       "3  Abbotsford  18/659 Victoria St      3    u        NaN     VB  Rounds   \n",
       "4  Abbotsford        5 Charles St      3    h  1465000.0     SP  Biggin   \n",
       "\n",
       "        Date  Distance  Postcode  ...  Bathroom  Car  Landsize  BuildingArea  \\\n",
       "0  3/09/2016       2.5    3067.0  ...       1.0  1.0     126.0           NaN   \n",
       "1  3/12/2016       2.5    3067.0  ...       1.0  1.0     202.0           NaN   \n",
       "2  4/02/2016       2.5    3067.0  ...       1.0  0.0     156.0          79.0   \n",
       "3  4/02/2016       2.5    3067.0  ...       2.0  1.0       0.0           NaN   \n",
       "4  4/03/2017       2.5    3067.0  ...       2.0  0.0     134.0         150.0   \n",
       "\n",
       "   YearBuilt         CouncilArea Lattitude  Longtitude             Regionname  \\\n",
       "0        NaN  Yarra City Council  -37.8014    144.9958  Northern Metropolitan   \n",
       "1        NaN  Yarra City Council  -37.7996    144.9984  Northern Metropolitan   \n",
       "2     1900.0  Yarra City Council  -37.8079    144.9934  Northern Metropolitan   \n",
       "3        NaN  Yarra City Council  -37.8114    145.0116  Northern Metropolitan   \n",
       "4     1900.0  Yarra City Council  -37.8093    144.9944  Northern Metropolitan   \n",
       "\n",
       "  Propertycount  \n",
       "0        4019.0  \n",
       "1        4019.0  \n",
       "2        4019.0  \n",
       "3        4019.0  \n",
       "4        4019.0  \n",
       "\n",
       "[5 rows x 21 columns]"
      ]
     },
     "execution_count": 2,
     "metadata": {},
     "output_type": "execute_result"
    }
   ],
   "source": [
    "# Import the data\n",
    "\n",
    "df = pd.read_csv('Melbourne_housing_FULL.csv')\n",
    "\n",
    "#check the first 5 entries\n",
    "df.head(5)\n",
    "#df.shape"
   ]
  },
  {
   "attachments": {},
   "cell_type": "markdown",
   "metadata": {},
   "source": [
    "Data Cleaning: Recreating from the paper, where columns with %55 missing data are removed and rows with missing \"Price\" values are removed"
   ]
  },
  {
   "cell_type": "code",
   "execution_count": 21,
   "metadata": {},
   "outputs": [
    {
     "ename": "ValueError",
     "evalue": "'mean_squared_error' is not a valid scoring value. Use sorted(sklearn.metrics.SCORERS.keys()) to get valid options.",
     "output_type": "error",
     "traceback": [
      "\u001b[1;31m---------------------------------------------------------------------------\u001b[0m",
      "\u001b[1;31mKeyError\u001b[0m                                  Traceback (most recent call last)",
      "File \u001b[1;32m~\\AppData\\Local\\Packages\\PythonSoftwareFoundation.Python.3.10_qbz5n2kfra8p0\\LocalCache\\local-packages\\Python310\\site-packages\\sklearn\\metrics\\_scorer.py:404\u001b[0m, in \u001b[0;36mget_scorer\u001b[1;34m(scoring)\u001b[0m\n\u001b[0;32m    403\u001b[0m \u001b[39mtry\u001b[39;00m:\n\u001b[1;32m--> 404\u001b[0m     scorer \u001b[39m=\u001b[39m SCORERS[scoring]\n\u001b[0;32m    405\u001b[0m \u001b[39mexcept\u001b[39;00m \u001b[39mKeyError\u001b[39;00m:\n",
      "\u001b[1;31mKeyError\u001b[0m: 'mean_squared_error'",
      "\nDuring handling of the above exception, another exception occurred:\n",
      "\u001b[1;31mValueError\u001b[0m                                Traceback (most recent call last)",
      "Cell \u001b[1;32mIn[21], line 23\u001b[0m\n\u001b[0;32m     20\u001b[0m estimator \u001b[39m=\u001b[39m LinearRegression()\n\u001b[0;32m     22\u001b[0m \u001b[39m# Define the stepwise selector, using the backward elimination method and the AIC criterion\u001b[39;00m\n\u001b[1;32m---> 23\u001b[0m selector \u001b[39m=\u001b[39m SequentialFeatureSelector(estimator, \n\u001b[0;32m     24\u001b[0m                                       \n\u001b[0;32m     25\u001b[0m                                       scoring\u001b[39m=\u001b[39;49m\u001b[39m'\u001b[39;49m\u001b[39mmean_squared_error\u001b[39;49m\u001b[39m'\u001b[39;49m, \n\u001b[0;32m     26\u001b[0m                                       verbose\u001b[39m=\u001b[39;49m\u001b[39m2\u001b[39;49m, \n\u001b[0;32m     27\u001b[0m                                       k_features\u001b[39m=\u001b[39;49m\u001b[39m'\u001b[39;49m\u001b[39mbest\u001b[39;49m\u001b[39m'\u001b[39;49m, \n\u001b[0;32m     28\u001b[0m                                       forward\u001b[39m=\u001b[39;49m\u001b[39mFalse\u001b[39;49;00m, \n\u001b[0;32m     29\u001b[0m                                       n_jobs\u001b[39m=\u001b[39;49m\u001b[39m-\u001b[39;49m\u001b[39m1\u001b[39;49m)\n\u001b[0;32m     31\u001b[0m \u001b[39m# Fit the selector to the training data\u001b[39;00m\n\u001b[0;32m     32\u001b[0m selector\u001b[39m.\u001b[39mfit(X_train, y_train)\n",
      "File \u001b[1;32m~\\AppData\\Local\\Packages\\PythonSoftwareFoundation.Python.3.10_qbz5n2kfra8p0\\LocalCache\\local-packages\\Python310\\site-packages\\mlxtend\\feature_selection\\sequential_feature_selector.py:242\u001b[0m, in \u001b[0;36mSequentialFeatureSelector.__init__\u001b[1;34m(self, estimator, k_features, forward, floating, verbose, scoring, cv, n_jobs, pre_dispatch, clone_estimator, fixed_features, feature_groups)\u001b[0m\n\u001b[0;32m    239\u001b[0m         \u001b[39mraise\u001b[39;00m \u001b[39mAttributeError\u001b[39;00m(\u001b[39m\"\u001b[39m\u001b[39mEstimator must be a Classifier or Regressor.\u001b[39m\u001b[39m\"\u001b[39m)\n\u001b[0;32m    241\u001b[0m \u001b[39mif\u001b[39;00m \u001b[39misinstance\u001b[39m(\u001b[39mself\u001b[39m\u001b[39m.\u001b[39mscoring, \u001b[39mstr\u001b[39m):\n\u001b[1;32m--> 242\u001b[0m     \u001b[39mself\u001b[39m\u001b[39m.\u001b[39mscorer \u001b[39m=\u001b[39m get_scorer(\u001b[39mself\u001b[39;49m\u001b[39m.\u001b[39;49mscoring)\n\u001b[0;32m    243\u001b[0m \u001b[39melse\u001b[39;00m:\n\u001b[0;32m    244\u001b[0m     \u001b[39mself\u001b[39m\u001b[39m.\u001b[39mscorer \u001b[39m=\u001b[39m \u001b[39mself\u001b[39m\u001b[39m.\u001b[39mscoring\n",
      "File \u001b[1;32m~\\AppData\\Local\\Packages\\PythonSoftwareFoundation.Python.3.10_qbz5n2kfra8p0\\LocalCache\\local-packages\\Python310\\site-packages\\sklearn\\metrics\\_scorer.py:406\u001b[0m, in \u001b[0;36mget_scorer\u001b[1;34m(scoring)\u001b[0m\n\u001b[0;32m    404\u001b[0m         scorer \u001b[39m=\u001b[39m SCORERS[scoring]\n\u001b[0;32m    405\u001b[0m     \u001b[39mexcept\u001b[39;00m \u001b[39mKeyError\u001b[39;00m:\n\u001b[1;32m--> 406\u001b[0m         \u001b[39mraise\u001b[39;00m \u001b[39mValueError\u001b[39;00m(\n\u001b[0;32m    407\u001b[0m             \u001b[39m\"\u001b[39m\u001b[39m%r\u001b[39;00m\u001b[39m is not a valid scoring value. \u001b[39m\u001b[39m\"\u001b[39m\n\u001b[0;32m    408\u001b[0m             \u001b[39m\"\u001b[39m\u001b[39mUse sorted(sklearn.metrics.SCORERS.keys()) \u001b[39m\u001b[39m\"\u001b[39m\n\u001b[0;32m    409\u001b[0m             \u001b[39m\"\u001b[39m\u001b[39mto get valid options.\u001b[39m\u001b[39m\"\u001b[39m \u001b[39m%\u001b[39m scoring\n\u001b[0;32m    410\u001b[0m         )\n\u001b[0;32m    411\u001b[0m \u001b[39melse\u001b[39;00m:\n\u001b[0;32m    412\u001b[0m     scorer \u001b[39m=\u001b[39m scoring\n",
      "\u001b[1;31mValueError\u001b[0m: 'mean_squared_error' is not a valid scoring value. Use sorted(sklearn.metrics.SCORERS.keys()) to get valid options."
     ]
    }
   ],
   "source": [
    "from mlxtend.feature_selection import SequentialFeatureSelector\n",
    "from sklearn.linear_model import LinearRegression\n",
    "from sklearn.model_selection import train_test_split\n",
    "# estimator = LinearRegression()\n",
    "# selector = SequentialFeatureSelector(estimator, \n",
    "#                                       scoring='neg_mean_squared_error', \n",
    "#                                       verbose=2, \n",
    "#                                       k_features='best', \n",
    "#                                       forward=False, \n",
    "#                                       n_jobs=-1)\n",
    "\n",
    "# selected_features = X_train.columns[list(selector.k_feature_idx_)]\n",
    "target = 'Price'\n",
    "features = df.columns.drop(target)\n",
    "\n",
    "# Split the data into training and test sets\n",
    "X_train, X_test, y_train, y_test = train_test_split(df[features], df[target], test_size=0.2, random_state=0)\n",
    "\n",
    "# Define the estimator to use in the stepwise algorithm\n",
    "estimator = LinearRegression()\n",
    "\n",
    "# Define the stepwise selector, using the backward elimination method and the AIC criterion\n",
    "selector = SequentialFeatureSelector(estimator, \n",
    "                                      \n",
    "                                      scoring='neg_mean_squared_error', \n",
    "                                      verbose=2, \n",
    "                                      k_features='best', \n",
    "                                      forward=False, \n",
    "                                      n_jobs=-1)\n",
    "\n",
    "# Fit the selector to the training data\n",
    "selector.fit(X_train, y_train)\n",
    "\n",
    "# Get the selected features and the final model\n",
    "selected_features = X_train.columns[list(selector.k_feature_idx_)]\n",
    "\n",
    "\n",
    "\n",
    "# Print the selected features and the model performance\n",
    "print('Selected Features:', selected_features)\n"
   ]
  },
  {
   "cell_type": "code",
   "execution_count": 4,
   "metadata": {},
   "outputs": [
    {
     "data": {
      "text/html": [
       "<div>\n",
       "<style scoped>\n",
       "    .dataframe tbody tr th:only-of-type {\n",
       "        vertical-align: middle;\n",
       "    }\n",
       "\n",
       "    .dataframe tbody tr th {\n",
       "        vertical-align: top;\n",
       "    }\n",
       "\n",
       "    .dataframe thead th {\n",
       "        text-align: right;\n",
       "    }\n",
       "</style>\n",
       "<table border=\"1\" class=\"dataframe\">\n",
       "  <thead>\n",
       "    <tr style=\"text-align: right;\">\n",
       "      <th></th>\n",
       "      <th>Rooms</th>\n",
       "      <th>Price</th>\n",
       "      <th>Distance</th>\n",
       "      <th>Bathroom</th>\n",
       "      <th>Car</th>\n",
       "      <th>Landsize</th>\n",
       "      <th>Lattitude</th>\n",
       "      <th>Longtitude</th>\n",
       "      <th>Propertycount</th>\n",
       "    </tr>\n",
       "  </thead>\n",
       "  <tbody>\n",
       "    <tr>\n",
       "      <th>count</th>\n",
       "      <td>20993.000000</td>\n",
       "      <td>2.099300e+04</td>\n",
       "      <td>20993.000000</td>\n",
       "      <td>20993.000000</td>\n",
       "      <td>20993.000000</td>\n",
       "      <td>20993.000000</td>\n",
       "      <td>20993.000000</td>\n",
       "      <td>20993.000000</td>\n",
       "      <td>20993.000000</td>\n",
       "    </tr>\n",
       "    <tr>\n",
       "      <th>mean</th>\n",
       "      <td>3.059163</td>\n",
       "      <td>1.089746e+06</td>\n",
       "      <td>11.359020</td>\n",
       "      <td>1.575001</td>\n",
       "      <td>1.666889</td>\n",
       "      <td>571.868147</td>\n",
       "      <td>-37.806963</td>\n",
       "      <td>144.996711</td>\n",
       "      <td>7516.751489</td>\n",
       "    </tr>\n",
       "    <tr>\n",
       "      <th>std</th>\n",
       "      <td>0.949881</td>\n",
       "      <td>6.530283e+05</td>\n",
       "      <td>6.891418</td>\n",
       "      <td>0.715417</td>\n",
       "      <td>1.020688</td>\n",
       "      <td>3478.854327</td>\n",
       "      <td>0.091619</td>\n",
       "      <td>0.120680</td>\n",
       "      <td>4411.397778</td>\n",
       "    </tr>\n",
       "    <tr>\n",
       "      <th>min</th>\n",
       "      <td>1.000000</td>\n",
       "      <td>8.500000e+04</td>\n",
       "      <td>0.000000</td>\n",
       "      <td>0.000000</td>\n",
       "      <td>0.000000</td>\n",
       "      <td>0.000000</td>\n",
       "      <td>-38.190430</td>\n",
       "      <td>144.423790</td>\n",
       "      <td>83.000000</td>\n",
       "    </tr>\n",
       "    <tr>\n",
       "      <th>25%</th>\n",
       "      <td>2.000000</td>\n",
       "      <td>6.570000e+05</td>\n",
       "      <td>6.400000</td>\n",
       "      <td>1.000000</td>\n",
       "      <td>1.000000</td>\n",
       "      <td>216.000000</td>\n",
       "      <td>-37.860900</td>\n",
       "      <td>144.925300</td>\n",
       "      <td>4380.000000</td>\n",
       "    </tr>\n",
       "    <tr>\n",
       "      <th>50%</th>\n",
       "      <td>3.000000</td>\n",
       "      <td>9.100000e+05</td>\n",
       "      <td>10.400000</td>\n",
       "      <td>1.000000</td>\n",
       "      <td>2.000000</td>\n",
       "      <td>541.000000</td>\n",
       "      <td>-37.800460</td>\n",
       "      <td>145.003200</td>\n",
       "      <td>6567.000000</td>\n",
       "    </tr>\n",
       "    <tr>\n",
       "      <th>75%</th>\n",
       "      <td>4.000000</td>\n",
       "      <td>1.335000e+06</td>\n",
       "      <td>14.200000</td>\n",
       "      <td>2.000000</td>\n",
       "      <td>2.000000</td>\n",
       "      <td>645.000000</td>\n",
       "      <td>-37.748970</td>\n",
       "      <td>145.068770</td>\n",
       "      <td>10331.000000</td>\n",
       "    </tr>\n",
       "    <tr>\n",
       "      <th>max</th>\n",
       "      <td>16.000000</td>\n",
       "      <td>1.120000e+07</td>\n",
       "      <td>48.100000</td>\n",
       "      <td>9.000000</td>\n",
       "      <td>18.000000</td>\n",
       "      <td>433014.000000</td>\n",
       "      <td>-37.397800</td>\n",
       "      <td>145.526350</td>\n",
       "      <td>21650.000000</td>\n",
       "    </tr>\n",
       "  </tbody>\n",
       "</table>\n",
       "</div>"
      ],
      "text/plain": [
       "              Rooms         Price      Distance      Bathroom           Car  \\\n",
       "count  20993.000000  2.099300e+04  20993.000000  20993.000000  20993.000000   \n",
       "mean       3.059163  1.089746e+06     11.359020      1.575001      1.666889   \n",
       "std        0.949881  6.530283e+05      6.891418      0.715417      1.020688   \n",
       "min        1.000000  8.500000e+04      0.000000      0.000000      0.000000   \n",
       "25%        2.000000  6.570000e+05      6.400000      1.000000      1.000000   \n",
       "50%        3.000000  9.100000e+05     10.400000      1.000000      2.000000   \n",
       "75%        4.000000  1.335000e+06     14.200000      2.000000      2.000000   \n",
       "max       16.000000  1.120000e+07     48.100000      9.000000     18.000000   \n",
       "\n",
       "            Landsize     Lattitude    Longtitude  Propertycount  \n",
       "count   20993.000000  20993.000000  20993.000000   20993.000000  \n",
       "mean      571.868147    -37.806963    144.996711    7516.751489  \n",
       "std      3478.854327      0.091619      0.120680    4411.397778  \n",
       "min         0.000000    -38.190430    144.423790      83.000000  \n",
       "25%       216.000000    -37.860900    144.925300    4380.000000  \n",
       "50%       541.000000    -37.800460    145.003200    6567.000000  \n",
       "75%       645.000000    -37.748970    145.068770   10331.000000  \n",
       "max    433014.000000    -37.397800    145.526350   21650.000000  "
      ]
     },
     "execution_count": 4,
     "metadata": {},
     "output_type": "execute_result"
    }
   ],
   "source": [
    "missing_percentage = df.isna().mean()\n",
    "#columns_to_drop = missing_percentage[missing_percentage > 0.55].index\n",
    "df_housing = df.drop(columns=['Suburb','Address','Method','SellerG','Date','Postcode','Bedroom2','CouncilArea','Regionname','BuildingArea','YearBuilt'])\n",
    "df_housing= df_housing.dropna(subset=['Price'])\n",
    "df_housing= df_housing.dropna(subset=['Lattitude']) #in the paper they used googlemaps API to fill in the missing values but I didn't want to buy a key so I just dropped it instead.\n",
    "df_housing = df_housing.dropna(thresh=6)\n",
    "#matching the data in the reference paper leaves us with 11 variables\n",
    "\n",
    "\n",
    "\n",
    "#imputations\n",
    "\n",
    "grouped_df = df.groupby(['Type'])['Landsize'].median().reset_index()\n",
    "\n",
    "# Function to impute missing values based on median values group by house types and suburbs\n",
    "def impute_landsize(row):\n",
    "    if pd.isnull(row['Landsize']):\n",
    "        median_val = grouped_df.loc[(grouped_df['Type']==row['Type']) , 'Landsize'].values\n",
    "        if len(median_val) > 0:\n",
    "            return median_val[0]\n",
    "        else:\n",
    "            return row['Landsize']\n",
    "    else:\n",
    "        return row['Landsize']\n",
    "\n",
    "df_housing['Landsize'] = df.apply(impute_landsize,axis=1)\n",
    "\n",
    "#change NAN to 0 for bathrooms and carports\n",
    "df_housing['Bathroom'] = df_housing['Bathroom'].fillna(0)\n",
    "df_housing['Car'] = df_housing['Car'].fillna(0)\n",
    "\n",
    "df_housing.head(5)\n",
    "df_housing.shape\n",
    "df_housing.describe()"
   ]
  },
  {
   "attachments": {
    "image.png": {
     "image/png": "[encoded data removed]"
    }
   },
   "cell_type": "markdown",
   "metadata": {},
   "source": [
    "After Datacleaning its time to use feature selection.\n",
    "The research paper uses the following 11 variables to build its model.\n",
    "![image.png](attachment:image.png)"
   ]
  },
  {
   "cell_type": "code",
   "execution_count": 5,
   "metadata": {},
   "outputs": [
    {
     "data": {
      "image/png": "[encoded data removed]",
      "text/plain": [
       "<Figure size 640x480 with 1 Axes>"
      ]
     },
     "metadata": {},
     "output_type": "display_data"
    }
   ],
   "source": [
    "#Histogram of price\n",
    "plt.hist(df_housing['Price'],bins=20)\n",
    "plt.ticklabel_format(style='plain', axis='x')\n",
    "plt.xlabel('Price')\n",
    "plt.ylabel('Frequency')\n",
    "plt.show()"
   ]
  },
  {
   "cell_type": "code",
   "execution_count": 6,
   "metadata": {},
   "outputs": [
    {
     "data": {
      "image/png": "[encoded data removed]",
      "text/plain": [
       "<Figure size 640x480 with 1 Axes>"
      ]
     },
     "metadata": {},
     "output_type": "display_data"
    }
   ],
   "source": [
    "log_price = np.log(df_housing['Price'])\n",
    "\n",
    "plt.hist(log_price, bins= 30)\n",
    "\n",
    "plt.xlabel('Price')\n",
    "plt.ylabel('Frequency')\n",
    "plt.show()"
   ]
  },
  {
   "cell_type": "code",
   "execution_count": 7,
   "metadata": {},
   "outputs": [
    {
     "data": {
      "image/png": "[encoded data removed]",
      "text/plain": [
       "<Figure size 1500x800 with 1 Axes>"
      ]
     },
     "metadata": {},
     "output_type": "display_data"
    }
   ],
   "source": [
    "# create a dataframe with median house prices by suburbs\n",
    "df_median_prices = df.groupby('Suburb')['Price'].median().reset_index().sort_values('Price', ascending=False)\n",
    "most_expensive = df_median_prices[:10]\n",
    "\n",
    "# plot a bar chart of the median house prices by suburbs\n",
    "plt.figure(figsize=(15,8))\n",
    "plt.bar(most_expensive['Suburb'], most_expensive['Price'])\n",
    "plt.xticks(rotation=90)\n",
    "plt.ticklabel_format(style='plain', axis='y')\n",
    "plt.xlabel('Suburbs')\n",
    "plt.ylabel('Median House Price')\n",
    "plt.title('Median House Prices by Suburbs')\n",
    "plt.show()"
   ]
  },
  {
   "attachments": {},
   "cell_type": "markdown",
   "metadata": {},
   "source": [
    "The paper implements several different regression models to find useful ones such as Stepwise, Linear Rgresssion, Polynomial Regression, Regression Tree, Neural Network, SVM"
   ]
  },
  {
   "cell_type": "code",
   "execution_count": 8,
   "metadata": {},
   "outputs": [],
   "source": [
    "df_housing = pd.get_dummies(df_housing, columns=['Type'])"
   ]
  },
  {
   "cell_type": "code",
   "execution_count": 9,
   "metadata": {},
   "outputs": [
    {
     "name": "stdout",
     "output_type": "stream",
     "text": [
      "Train score: 0.5219997583404989\n",
      "Test score: 0.4905631816976269\n",
      "MSE: 230404098759.94214\n"
     ]
    },
    {
     "name": "stderr",
     "output_type": "stream",
     "text": [
      "C:\\Users\\emman\\AppData\\Local\\Packages\\PythonSoftwareFoundation.Python.3.10_qbz5n2kfra8p0\\LocalCache\\local-packages\\Python310\\site-packages\\sklearn\\linear_model\\_base.py:141: FutureWarning: 'normalize' was deprecated in version 1.0 and will be removed in 1.2.\n",
      "If you wish to scale the data, use Pipeline with a StandardScaler in a preprocessing stage. To reproduce the previous behavior:\n",
      "\n",
      "from sklearn.pipeline import make_pipeline\n",
      "\n",
      "model = make_pipeline(StandardScaler(with_mean=False), LinearRegression())\n",
      "\n",
      "If you wish to pass a sample_weight parameter, you need to pass it as a fit parameter to each step of the pipeline as follows:\n",
      "\n",
      "kwargs = {s[0] + '__sample_weight': sample_weight for s in model.steps}\n",
      "model.fit(X, y, **kwargs)\n",
      "\n",
      "\n",
      "  warnings.warn(\n"
     ]
    }
   ],
   "source": [
    "from sklearn.model_selection import train_test_split\n",
    "from sklearn.linear_model import LinearRegression\n",
    "from sklearn.metrics import mean_squared_error\n",
    "from sklearn.preprocessing import StandardScaler, PolynomialFeatures\n",
    "from sklearn.decomposition import PCA\n",
    "\n",
    "scaler = StandardScaler()\n",
    "df_housing[['Rooms', 'Distance', 'Bathroom', 'Car', 'Landsize']] = scaler.fit_transform(df_housing[['Rooms', 'Distance', 'Bathroom', 'Car', 'Landsize']])\n",
    "\n",
    "X = df_housing.drop('Price', axis=1)\n",
    "target=df_housing['Price']\n",
    "\n",
    "#split data\n",
    "X_train, X_test, t_train, t_test = train_test_split(X,target,test_size=0.2)\n",
    "\n",
    "#starting off with linear regression which is used as the baseline\n",
    "linear_reg = LinearRegression(normalize=True)\n",
    "\n",
    "linear_reg.fit(X_train,t_train)\n",
    "\n",
    "t_pred =linear_reg.predict(X_test)\n",
    "\n",
    "mse = mean_squared_error(t_test,t_pred)\n",
    "training_score=linear_reg.score(X_train,t_train)\n",
    "test_score = linear_reg.score(X_test,t_test)\n",
    "print(f\"Train score: {training_score}\")\n",
    "print(f\"Test score: {test_score}\")\n",
    "y_pred = linear_reg.predict(X_test)\n",
    "y = linear_reg.predict(X_test)\n",
    "r2 = r2_score(t_test, y_pred)\n",
    "print(f\"MSE: {mse}\")\n"
   ]
  },
  {
   "attachments": {},
   "cell_type": "markdown",
   "metadata": {},
   "source": [
    "Data Reduction and Transformation"
   ]
  },
  {
   "cell_type": "code",
   "execution_count": 10,
   "metadata": {},
   "outputs": [
    {
     "name": "stdout",
     "output_type": "stream",
     "text": [
      "Index(['Rooms', 'Distance', 'Bathroom', 'Car', 'Landsize', 'Lattitude',\n",
      "       'Longtitude', 'Propertycount', 'Type_h', 'Type_t', 'Type_u'],\n",
      "      dtype='object')\n",
      "Lattitude       -1.636183e+06\n",
      "Distance        -3.102679e+05\n",
      "Propertycount   -7.925497e-01\n",
      "Landsize         2.053170e+04\n",
      "Car              3.621980e+04\n",
      "Bathroom         1.454440e+05\n",
      "Rooms            1.742268e+05\n",
      "Longtitude       8.832189e+05\n",
      "Type_u           1.738499e+18\n",
      "Type_t           1.738499e+18\n",
      "Type_h           1.738499e+18\n",
      "dtype: float64\n"
     ]
    }
   ],
   "source": [
    "predictors = X_train.columns\n",
    "print(predictors)\n",
    "\n",
    "coef = pd.Series(linear_reg.coef_,predictors).sort_values()\n",
    "print(coef)"
   ]
  },
  {
   "cell_type": "code",
   "execution_count": 11,
   "metadata": {},
   "outputs": [
    {
     "data": {
      "text/html": [
       "<div>\n",
       "<style scoped>\n",
       "    .dataframe tbody tr th:only-of-type {\n",
       "        vertical-align: middle;\n",
       "    }\n",
       "\n",
       "    .dataframe tbody tr th {\n",
       "        vertical-align: top;\n",
       "    }\n",
       "\n",
       "    .dataframe thead th {\n",
       "        text-align: right;\n",
       "    }\n",
       "</style>\n",
       "<table border=\"1\" class=\"dataframe\">\n",
       "  <thead>\n",
       "    <tr style=\"text-align: right;\">\n",
       "      <th></th>\n",
       "      <th>predicted</th>\n",
       "      <th>actual</th>\n",
       "    </tr>\n",
       "  </thead>\n",
       "  <tbody>\n",
       "    <tr>\n",
       "      <th>32541</th>\n",
       "      <td>1559296.0</td>\n",
       "      <td>1150000.0</td>\n",
       "    </tr>\n",
       "    <tr>\n",
       "      <th>9667</th>\n",
       "      <td>536832.0</td>\n",
       "      <td>354000.0</td>\n",
       "    </tr>\n",
       "    <tr>\n",
       "      <th>4519</th>\n",
       "      <td>1524480.0</td>\n",
       "      <td>1425000.0</td>\n",
       "    </tr>\n",
       "    <tr>\n",
       "      <th>3022</th>\n",
       "      <td>593408.0</td>\n",
       "      <td>601000.0</td>\n",
       "    </tr>\n",
       "    <tr>\n",
       "      <th>33686</th>\n",
       "      <td>886784.0</td>\n",
       "      <td>728000.0</td>\n",
       "    </tr>\n",
       "    <tr>\n",
       "      <th>21834</th>\n",
       "      <td>374272.0</td>\n",
       "      <td>472000.0</td>\n",
       "    </tr>\n",
       "    <tr>\n",
       "      <th>33202</th>\n",
       "      <td>1573376.0</td>\n",
       "      <td>1040000.0</td>\n",
       "    </tr>\n",
       "    <tr>\n",
       "      <th>25761</th>\n",
       "      <td>1128192.0</td>\n",
       "      <td>1302000.0</td>\n",
       "    </tr>\n",
       "    <tr>\n",
       "      <th>18080</th>\n",
       "      <td>1165824.0</td>\n",
       "      <td>1857000.0</td>\n",
       "    </tr>\n",
       "    <tr>\n",
       "      <th>17162</th>\n",
       "      <td>1751808.0</td>\n",
       "      <td>1400000.0</td>\n",
       "    </tr>\n",
       "  </tbody>\n",
       "</table>\n",
       "</div>"
      ],
      "text/plain": [
       "       predicted     actual\n",
       "32541  1559296.0  1150000.0\n",
       "9667    536832.0   354000.0\n",
       "4519   1524480.0  1425000.0\n",
       "3022    593408.0   601000.0\n",
       "33686   886784.0   728000.0\n",
       "21834   374272.0   472000.0\n",
       "33202  1573376.0  1040000.0\n",
       "25761  1128192.0  1302000.0\n",
       "18080  1165824.0  1857000.0\n",
       "17162  1751808.0  1400000.0"
      ]
     },
     "execution_count": 11,
     "metadata": {},
     "output_type": "execute_result"
    }
   ],
   "source": [
    "y_pred = linear_reg.predict(X_test)\n",
    "\n",
    "df_pred_actual=pd.DataFrame({'predicted': y_pred, 'actual':t_test})\n",
    "df_pred_actual.head(10)"
   ]
  },
  {
   "attachments": {},
   "cell_type": "markdown",
   "metadata": {},
   "source": [
    "Model evaluations"
   ]
  },
  {
   "cell_type": "code",
   "execution_count": 12,
   "metadata": {},
   "outputs": [
    {
     "name": "stdout",
     "output_type": "stream",
     "text": [
      "Testing_score:  0.4905631816976269\n"
     ]
    },
    {
     "data": {
      "image/png": "[encoded data removed]",
      "text/plain": [
       "<Figure size 1200x800 with 1 Axes>"
      ]
     },
     "metadata": {},
     "output_type": "display_data"
    }
   ],
   "source": [
    "from sklearn.metrics import r2_score\n",
    "print(\"Testing_score: \",r2_score(t_test,y_pred))\n",
    "\n",
    "fig, ax =plt.subplots(figsize=(12,8))\n",
    "plt.title(\"R2 Score\")\n",
    "plt.scatter(t_test,y_pred)\n",
    "plt.show()"
   ]
  },
  {
   "attachments": {},
   "cell_type": "markdown",
   "metadata": {},
   "source": [
    "Using and evaluating other models\n",
    "Poly Regression"
   ]
  },
  {
   "cell_type": "code",
   "execution_count": 13,
   "metadata": {},
   "outputs": [
    {
     "name": "stdout",
     "output_type": "stream",
     "text": [
      "Train score: 0.6470529901893627\n",
      "Test score: 0.6102466734123506\n",
      "MSE: 230404098759.94214\n",
      "R-squared score: 0.4905631816976269\n"
     ]
    }
   ],
   "source": [
    "from sklearn.preprocessing import PolynomialFeatures\n",
    "\n",
    "poly = PolynomialFeatures(degree=2)\n",
    "X_train_poly = poly.fit_transform(X_train)\n",
    "X_test_poly = poly.transform(X_test)\n",
    "\n",
    "poly_reg = LinearRegression().fit(X_train_poly, t_train)\n",
    "\n",
    "\n",
    "y_pred_poly = poly_reg.predict(X_test_poly)\n",
    "\n",
    "mse_poly = mean_squared_error(t_test, y_pred)\n",
    "r2_poly = r2_score(t_test, y_pred)\n",
    "training_score_poly=poly_reg.score(X_train_poly,t_train)\n",
    "test_score_poly = poly_reg.score(X_test_poly,t_test)\n",
    "print(f\"Train score: {training_score_poly}\")\n",
    "print(f\"Test score: {test_score_poly}\")\n",
    "print(f\"MSE: {mse_poly}\")\n",
    "print(f\"R-squared score: {r2_poly}\")"
   ]
  },
  {
   "attachments": {},
   "cell_type": "markdown",
   "metadata": {},
   "source": [
    "Regression Tree\n"
   ]
  },
  {
   "cell_type": "code",
   "execution_count": 14,
   "metadata": {},
   "outputs": [
    {
     "name": "stdout",
     "output_type": "stream",
     "text": [
      "Train score: 0.9998762760505036\n",
      "Test score: 0.628084173590722\n",
      "MSE: 168207180399.60638\n",
      "R-squared score: 0.628084173590722\n"
     ]
    }
   ],
   "source": [
    "from sklearn.tree import DecisionTreeRegressor\n",
    "tree_reg = DecisionTreeRegressor()\n",
    "tree_reg.fit(X_train, t_train)\n",
    "\n",
    "t_pred = tree_reg.predict(X_test)\n",
    "\n",
    "training_score_tree=tree_reg.score(X_train,t_train)\n",
    "test_score_tree = tree_reg.score(X_test,t_test)\n",
    "\n",
    "mse_tree = mean_squared_error(t_test, t_pred)\n",
    "r2_tree = r2_score(t_test, t_pred)\n",
    "\n",
    "print(f\"Train score: {training_score_tree}\")\n",
    "print(f\"Test score: {test_score_tree}\")\n",
    "print(f\"MSE: {mse_tree}\")\n",
    "print(f\"R-squared score: {r2_tree}\")"
   ]
  },
  {
   "attachments": {},
   "cell_type": "markdown",
   "metadata": {},
   "source": [
    "Neural Network"
   ]
  },
  {
   "cell_type": "code",
   "execution_count": 15,
   "metadata": {},
   "outputs": [
    {
     "name": "stdout",
     "output_type": "stream",
     "text": [
      "Train score: 0.4828654452846657\n",
      "Test score: 0.4677978800339685\n",
      "MSE: 240700211299.064\n",
      "R-squared score: 0.4677978800339685\n"
     ]
    }
   ],
   "source": [
    "from sklearn.neural_network import MLPRegressor\n",
    "\n",
    "scaler = StandardScaler()\n",
    "X_train_neural = scaler.fit_transform(X_train)\n",
    "X_test_neural = scaler.transform(X_test)\n",
    "\n",
    "neural_model = MLPRegressor(hidden_layer_sizes=(50,50,50), max_iter=1000)\n",
    "\n",
    "neural_model.fit(X_train, t_train)\n",
    "y_pred = neural_model.predict(X_test)\n",
    "\n",
    "\n",
    "mse_nn = mean_squared_error(t_test, y_pred)\n",
    "r2_nn = r2_score(t_test, y_pred)\n",
    "\n",
    "training_score_neural=neural_model.score(X_train,t_train)\n",
    "test_score_neural = neural_model.score(X_test,t_test)\n",
    "\n",
    "print(f\"Train score: {training_score_neural}\")\n",
    "print(f\"Test score: {test_score_neural}\")\n",
    "print(f\"MSE: {mse_nn}\")\n",
    "print(f\"R-squared score: {r2_nn}\")\n"
   ]
  },
  {
   "attachments": {},
   "cell_type": "markdown",
   "metadata": {},
   "source": [
    "SVM"
   ]
  },
  {
   "cell_type": "code",
   "execution_count": 16,
   "metadata": {},
   "outputs": [
    {
     "name": "stdout",
     "output_type": "stream",
     "text": [
      "Train score: -0.05327021595517989\n",
      "Test score: -0.05190911088793837\n",
      "MSE: 475749223385.84033\n",
      "R-squared score: -0.05190911088793837\n"
     ]
    }
   ],
   "source": [
    "from sklearn.svm import SVR\n",
    "svm_reg = SVR(kernel='linear')\n",
    "svm_reg.fit(X_train, t_train)\n",
    "\n",
    "y_pred = svm_reg.predict(X_test)\n",
    "\n",
    "mse_svm = mean_squared_error(t_test, y_pred)\n",
    "r2_svm = r2_score(t_test, y_pred)\n",
    "\n",
    "training_score_svm=svm_reg.score(X_train,t_train)\n",
    "test_score_svm = svm_reg.score(X_test,t_test)\n",
    "\n",
    "print(f\"Train score: {training_score_svm}\")\n",
    "print(f\"Test score: {test_score_svm}\")\n",
    "print(f\"MSE: {mse_svm}\")\n",
    "print(f\"R-squared score: {r2_svm}\")"
   ]
  },
  {
   "cell_type": "code",
   "execution_count": 17,
   "metadata": {},
   "outputs": [],
   "source": [
    "# from sklearn.decomposition import PCA\n",
    "# from sklearn.svm import SVC\n",
    "# from sklearn.pipeline import make_pipeline\n",
    "\n",
    "# pca = PCA(n_components=10) \n",
    "# svm_pca = SVC(kernel='linear', C=1.0)\n",
    "# svm_pipe = make_pipeline(pca, svm_pca)\n",
    "# svm_pipe.fit(X_train, t_train)\n",
    "\n",
    "# score = svm_pipe.score(X_test, t_test)\n",
    "# print(score)"
   ]
  },
  {
   "attachments": {},
   "cell_type": "markdown",
   "metadata": {},
   "source": [
    "Prediction Results:"
   ]
  },
  {
   "cell_type": "code",
   "execution_count": 18,
   "metadata": {},
   "outputs": [
    {
     "name": "stdout",
     "output_type": "stream",
     "text": [
      "             Linear Regression  Polynomial Regression    Regression Tree     Neural Network  Support Vector Machine\n",
      "Train Score            0.52200                0.64705            0.99988            0.48287                -0.05327\n",
      "Test Score             0.49056                0.61025            0.62808            0.46780                -0.05191\n",
      "MSE         230404098759.94214     230404098759.94214 168207180399.60638 240700211299.06400      475749223385.84033\n",
      "R-squared              0.49056                0.49056            0.62808            0.46780                -0.05191\n"
     ]
    }
   ],
   "source": [
    "scores = {\n",
    "    'Linear Regression': [training_score, test_score, mse, r2],\n",
    "    'Polynomial Regression': [training_score_poly, test_score_poly, mse_poly, r2_poly],\n",
    "    'Regression Tree': [training_score_tree, test_score_tree, mse_tree, r2_tree],\n",
    "    'Neural Network': [training_score_neural, test_score_neural, mse_nn, r2_nn],\n",
    "    'Support Vector Machine': [training_score_svm, test_score_svm, mse_svm, r2_svm]\n",
    "}\n",
    "df_scores = pd.DataFrame(scores, index=['Train Score', 'Test Score', 'MSE', 'R-squared'])\n",
    "\n",
    "print(df_scores.to_string(float_format=\"{:.5f}\".format))\n"
   ]
  },
  {
   "attachments": {},
   "cell_type": "markdown",
   "metadata": {},
   "source": [
    "Conclusion:\n",
    "It seems that the regression tree had the overall best performance of the models but it is far from perfect and not nearly as good as the ones obtain in the research paper. Perhaps there was a mistake made during the preprocessing phase or with the selection of features. In either case "
   ]
  }
 ],
 "metadata": {
  "kernelspec": {
   "display_name": "base",
   "language": "python",
   "name": "python3"
  },
  "language_info": {
   "codemirror_mode": {
    "name": "ipython",
    "version": 3
   },
   "file_extension": ".py",
   "mimetype": "text/x-python",
   "name": "python",
   "nbconvert_exporter": "python",
   "pygments_lexer": "ipython3",
   "version": "3.10.10"
  },
  "orig_nbformat": 4
 },
 "nbformat": 4,
 "nbformat_minor": 2
}
